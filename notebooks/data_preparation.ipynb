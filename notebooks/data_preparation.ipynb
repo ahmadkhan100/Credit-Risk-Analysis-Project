{
 "cells": [
  {
   "cell_type": "markdown",
   "id": "48c2297f",
   "metadata": {},
   "source": [
    "# Data Preparation\n",
    "This notebook focuses on preparing the data for analysis. It includes loading the data, cleaning, handling missing values, and feature engineering."
   ]
  },
  {
   "cell_type": "code",
   "execution_count": null,
   "id": "435a51ce",
   "metadata": {},
   "outputs": [],
   "source": [
    "\n",
    "import pandas as pd\n",
    "import numpy as np\n",
    "import matplotlib.pyplot as plt\n",
    "import seaborn as sns\n",
    "from sklearn.model_selection import train_test_split\n",
    "from sklearn.linear_model import LogisticRegression\n",
    "from sklearn.metrics import accuracy_score, precision_score, recall_score, roc_auc_score, confusion_matrix\n"
   ]
  },
  {
   "cell_type": "markdown",
   "id": "187b039d",
   "metadata": {},
   "source": [
    "\n",
    "## Data Preparation\n",
    "\n",
    "This section includes loading the data, cleaning, handling missing values, and feature engineering.\n"
   ]
  },
  {
   "cell_type": "code",
   "execution_count": null,
   "id": "87fb35d6",
   "metadata": {},
   "outputs": [],
   "source": [
    "\n",
    "df = pd.read_csv('/path/to/raw/data.csv')\n",
    "df.drop_duplicates(inplace=True)\n",
    "df.fillna(method='ffill', inplace=True)\n",
    "df.drop(['unnecessary_column_1', 'unnecessary_column_2'], axis=1, inplace=True)\n"
   ]
  }
 ],
 "metadata": {},
 "nbformat": 4,
 "nbformat_minor": 5
}
