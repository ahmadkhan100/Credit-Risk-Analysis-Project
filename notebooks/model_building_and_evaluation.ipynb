{
 "cells": [
  {
   "cell_type": "markdown",
   "id": "84ca1e6c",
   "metadata": {},
   "source": [
    "# Model Building and Evaluation\n",
    "This notebook focuses on building a predictive model to assess credit risk and evaluating its performance."
   ]
  },
  {
   "cell_type": "code",
   "execution_count": null,
   "id": "77b6da02",
   "metadata": {},
   "outputs": [],
   "source": [
    "\n",
    "import pandas as pd\n",
    "import numpy as np\n",
    "import matplotlib.pyplot as plt\n",
    "import seaborn as sns\n",
    "from sklearn.model_selection import train_test_split\n",
    "from sklearn.linear_model import LogisticRegression\n",
    "from sklearn.metrics import accuracy_score, precision_score, recall_score, roc_auc_score, confusion_matrix\n"
   ]
  },
  {
   "cell_type": "markdown",
   "id": "77db8e80",
   "metadata": {},
   "source": [
    "\n",
    "## Model Building\n",
    "\n",
    "This section describes splitting the dataset, training a model, and making predictions.\n"
   ]
  },
  {
   "cell_type": "code",
   "execution_count": null,
   "id": "599d1c65",
   "metadata": {},
   "outputs": [],
   "source": [
    "\n",
    "X = df.drop('LoanStatus', axis=1)\n",
    "y = df['LoanStatus']\n",
    "X_train, X_test, y_train, y_test = train_test_split(X, y, test_size=0.2, random_state=42)\n",
    "\n",
    "model = LogisticRegression()\n",
    "model.fit(X_train, y_train)\n"
   ]
  },
  {
   "cell_type": "markdown",
   "id": "b69df3cd",
   "metadata": {},
   "source": [
    "\n",
    "## Model Evaluation\n",
    "\n",
    "Focuses on evaluating the model's performance with appropriate metrics.\n"
   ]
  },
  {
   "cell_type": "code",
   "execution_count": null,
   "id": "aa4651fa",
   "metadata": {},
   "outputs": [],
   "source": [
    "\n",
    "y_pred = model.predict(X_test)\n",
    "print(\"Accuracy:\", accuracy_score(y_test, y_pred))\n",
    "print(\"Precision:\", precision_score(y_test, y_pred, average='macro'))\n",
    "print(\"Recall:\", recall_score(y_test, y_pred, average='macro'))\n",
    "print(\"ROC-AUC Score:\", roc_auc_score(y_test, y_pred))\n"
   ]
  }
 ],
 "metadata": {},
 "nbformat": 4,
 "nbformat_minor": 5
}
