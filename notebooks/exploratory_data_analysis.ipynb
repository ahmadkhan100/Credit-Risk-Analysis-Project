{
 "cells": [
  {
   "cell_type": "markdown",
   "id": "28d0a37c",
   "metadata": {},
   "source": [
    "# Exploratory Data Analysis (EDA)\n",
    "This notebook conducts an exploratory analysis of the processed loan data to uncover patterns, anomalies, or relationships."
   ]
  },
  {
   "cell_type": "code",
   "execution_count": null,
   "id": "bb6e7b3b",
   "metadata": {},
   "outputs": [],
   "source": [
    "\n",
    "import pandas as pd\n",
    "import numpy as np\n",
    "import matplotlib.pyplot as plt\n",
    "import seaborn as sns\n",
    "from sklearn.model_selection import train_test_split\n",
    "from sklearn.linear_model import LogisticRegression\n",
    "from sklearn.metrics import accuracy_score, precision_score, recall_score, roc_auc_score, confusion_matrix\n"
   ]
  },
  {
   "cell_type": "markdown",
   "id": "bb412edb",
   "metadata": {},
   "source": [
    "\n",
    "## Exploratory Data Analysis (EDA)\n",
    "\n",
    "This section covers visualizing distributions, correlations, and other insights.\n"
   ]
  },
  {
   "cell_type": "code",
   "execution_count": null,
   "id": "6e90c8e0",
   "metadata": {},
   "outputs": [],
   "source": [
    "\n",
    "sns.countplot(x='LoanStatus', data=df)\n",
    "plt.title('Distribution of Loan Status')\n",
    "plt.show()\n",
    "\n",
    "plt.figure(figsize=(10, 8))\n",
    "sns.heatmap(df.corr(), annot=True, fmt=\".2f\")\n",
    "plt.title('Correlation Matrix')\n",
    "plt.show()\n"
   ]
  }
 ],
 "metadata": {},
 "nbformat": 4,
 "nbformat_minor": 5
}
